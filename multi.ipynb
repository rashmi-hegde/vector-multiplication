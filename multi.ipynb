{
  "nbformat": 4,
  "nbformat_minor": 0,
  "metadata": {
    "colab": {
      "name": "multi.ipynb",
      "provenance": [],
      "collapsed_sections": []
    },
    "kernelspec": {
      "name": "python3",
      "display_name": "Python 3"
    }
  },
  "cells": [
    {
      "cell_type": "markdown",
      "metadata": {
        "id": "amkiD849cczK",
        "colab_type": "text"
      },
      "source": [
        "\n",
        "**Vector Multiplication**\n",
        "\n",
        "Vector multiplication can be performed in three ways:\n",
        "\n",
        "Scalar MultiplicationDot Product MultiplicationCross Product MultiplicationScalar Multiplication\n",
        "\n",
        "Let's start with scalar multiplication - in other words, multiplying a vector by a single numeric value.\n",
        "\n",
        "Suppose I want to multiply my vector by 2, which I could write like this:\n",
        "\n",
        "Note that the result of this calculation is a new vector named w. Recall that v is defined like this:\n",
        "\n",
        "To calculate 2v, we simply need to apply the operation to each dimension value in the vector matrix, like this:\n",
        "\n",
        "Which gives us the following result:\n",
        "\n",
        "In Python, you can apply these sort of matrix operations directly to numpy arrays, so we can simply calculate w like this:\n",
        "\n"
      ]
    },
    {
      "cell_type": "code",
      "metadata": {
        "id": "_DwmbIzbcXSd",
        "colab_type": "code",
        "colab": {
          "base_uri": "https://localhost:8080/",
          "height": 306
        },
        "outputId": "5f314afd-3413-4c61-f3e9-65e0fb64f43c"
      },
      "source": [
        " %matplotlib inline\n",
        " \n",
        "import numpy as np\n",
        "import matplotlib.pyplot as plt\n",
        "import math\n",
        " \n",
        "v = np.array([2,1])\n",
        " \n",
        "w = 2 * v\n",
        "print(w)\n",
        " \n",
        "# Plot w\n",
        "origin = [0], [0]\n",
        "plt.grid()\n",
        "plt.ticklabel_format(style='sci', axis='both', scilimits=(0,0))\n",
        "plt.quiver(*origin, *w, scale=10)\n",
        "plt.show()"
      ],
      "execution_count": 1,
      "outputs": [
        {
          "output_type": "stream",
          "text": [
            "[4 2]\n"
          ],
          "name": "stdout"
        },
        {
          "output_type": "display_data",
          "data": {
            "image/png": "[encoded data removed]",
            "text/plain": [
              "<Figure size 432x288 with 1 Axes>"
            ]
          },
          "metadata": {
            "tags": [],
            "needs_background": "light"
          }
        }
      ]
    },
    {
      "cell_type": "code",
      "metadata": {
        "id": "knMog4cZcgci",
        "colab_type": "code",
        "colab": {
          "base_uri": "https://localhost:8080/",
          "height": 306
        },
        "outputId": "f5c34e89-13ee-48ab-95a4-0a89a7b25de8"
      },
      "source": [
        "b = v / 2\n",
        "print(b)\n",
        " \n",
        "# Plot b\n",
        "origin = [0], [0]\n",
        "plt.axis('equal')\n",
        "plt.grid()\n",
        "plt.ticklabel_format(style='sci', axis='both', scilimits=(0,0))\n",
        "plt.quiver(*origin, *b, scale=10)\n",
        "plt.show()"
      ],
      "execution_count": 2,
      "outputs": [
        {
          "output_type": "stream",
          "text": [
            "[1.  0.5]\n"
          ],
          "name": "stdout"
        },
        {
          "output_type": "display_data",
          "data": {
            "image/png": "[encoded data removed]",
            "text/plain": [
              "<Figure size 432x288 with 1 Axes>"
            ]
          },
          "metadata": {
            "tags": [],
            "needs_background": "light"
          }
        }
      ]
    },
    {
      "cell_type": "code",
      "metadata": {
        "id": "BQLpLxuFdCeY",
        "colab_type": "code",
        "colab": {
          "base_uri": "https://localhost:8080/",
          "height": 34
        },
        "outputId": "c5c1379a-c58c-4047-b703-f6dbcc86a101"
      },
      "source": [
        "import numpy as np\n",
        " \n",
        "v = np.array([2,1])\n",
        "s = np.array([-3,2])\n",
        "d = np.dot(v,s)\n",
        "print (d)"
      ],
      "execution_count": 3,
      "outputs": [
        {
          "output_type": "stream",
          "text": [
            "-4\n"
          ],
          "name": "stdout"
        }
      ]
    },
    {
      "cell_type": "code",
      "metadata": {
        "id": "f4BXu-wQdL9i",
        "colab_type": "code",
        "colab": {
          "base_uri": "https://localhost:8080/",
          "height": 34
        },
        "outputId": "fbc8b1fa-3a3d-4472-fe0e-79294d78af4f"
      },
      "source": [
        "import numpy as np\n",
        " \n",
        "v = np.array([2,1])\n",
        "s = np.array([-3,2])\n",
        "d = v @ s\n",
        "print (d)"
      ],
      "execution_count": 4,
      "outputs": [
        {
          "output_type": "stream",
          "text": [
            "-4\n"
          ],
          "name": "stdout"
        }
      ]
    },
    {
      "cell_type": "code",
      "metadata": {
        "id": "7h8M7sDhdWJK",
        "colab_type": "code",
        "colab": {
          "base_uri": "https://localhost:8080/",
          "height": 34
        },
        "outputId": "bfb37aa1-a8b9-4725-9433-c7e9bd7318f8"
      },
      "source": [
        "import math\n",
        "import numpy as np\n",
        " \n",
        "# define our vectors\n",
        "v = np.array([2,1])\n",
        "s = np.array([-3,2])\n",
        " \n",
        "# get the magnitudes\n",
        "vMag = np.linalg.norm(v)\n",
        "sMag = np.linalg.norm(s)\n",
        " \n",
        "# calculate the cosine of theta\n",
        "cos = (v @ s) / (vMag * sMag)\n",
        " \n",
        "# so theta (in degrees) is:\n",
        "theta = math.degrees(math.acos(cos))\n",
        " \n",
        "print(theta)"
      ],
      "execution_count": 5,
      "outputs": [
        {
          "output_type": "stream",
          "text": [
            "119.74488129694222\n"
          ],
          "name": "stdout"
        }
      ]
    },
    {
      "cell_type": "code",
      "metadata": {
        "id": "mc78ZZTDdevZ",
        "colab_type": "code",
        "colab": {
          "base_uri": "https://localhost:8080/",
          "height": 34
        },
        "outputId": "2df45fbd-36ec-4976-fd17-afeb18a8bdd3"
      },
      "source": [
        "z=v+s\n",
        "print(z)"
      ],
      "execution_count": 6,
      "outputs": [
        {
          "output_type": "stream",
          "text": [
            "[-1  3]\n"
          ],
          "name": "stdout"
        }
      ]
    },
    {
      "cell_type": "code",
      "metadata": {
        "id": "iFRcAhQ7dlg3",
        "colab_type": "code",
        "colab": {
          "base_uri": "https://localhost:8080/",
          "height": 34
        },
        "outputId": "850f8523-4b6c-4b6b-84aa-e2bedc2d06f4"
      },
      "source": [
        "import math\n",
        "v=np.array([2,3])\n",
        "vMag=math.sqrt(v[0]**2+v[1]**2)\n",
        "print(vMag)"
      ],
      "execution_count": 7,
      "outputs": [
        {
          "output_type": "stream",
          "text": [
            "3.605551275463989\n"
          ],
          "name": "stdout"
        }
      ]
    },
    {
      "cell_type": "code",
      "metadata": {
        "id": "_toQfPjddr14",
        "colab_type": "code",
        "colab": {
          "base_uri": "https://localhost:8080/",
          "height": 306
        },
        "outputId": "c0f3fbcd-3f85-4f00-de96-ee6874c805e8"
      },
      "source": [
        "import numpy as np\n",
        "import matplotlib.pyplot as plt \n",
        "import math\n",
        "v = np.array([-1,1])\n",
        "w = 3 * v \n",
        "print(w)\n",
        "# Plot w \n",
        "origin = [0], [0] \n",
        "plt.grid() \n",
        "plt.ticklabel_format(style='sci', axis='both', scilimits=(0,0)) \n",
        "plt.quiver(*origin, *w, scale=10) \n",
        "plt.show()"
      ],
      "execution_count": 8,
      "outputs": [
        {
          "output_type": "stream",
          "text": [
            "[-3  3]\n"
          ],
          "name": "stdout"
        },
        {
          "output_type": "display_data",
          "data": {
            "image/png": "[encoded data removed]",
            "text/plain": [
              "<Figure size 432x288 with 1 Axes>"
            ]
          },
          "metadata": {
            "tags": [],
            "needs_background": "light"
          }
        }
      ]
    },
    {
      "cell_type": "code",
      "metadata": {
        "id": "HeMr0SW1dzkN",
        "colab_type": "code",
        "colab": {
          "base_uri": "https://localhost:8080/",
          "height": 34
        },
        "outputId": "38909c7e-dde9-4ca8-f00e-1af25f73917c"
      },
      "source": [
        " import numpy as np\n",
        " \n",
        "p = np.array([2,3,1])\n",
        "q = np.array([1,2,-2])\n",
        "r = np.cross(p,q)\n",
        "print (r)"
      ],
      "execution_count": 10,
      "outputs": [
        {
          "output_type": "stream",
          "text": [
            "[-8  5  1]\n"
          ],
          "name": "stdout"
        }
      ]
    }
  ]
}